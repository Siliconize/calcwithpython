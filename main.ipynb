{
 "cells": [
  {
   "cell_type": "markdown",
   "metadata": {},
   "source": [
    "# Doing math with python\n",
    "warning! denglish ahead"
   ]
  },
  {
   "cell_type": "code",
   "execution_count": 13,
   "metadata": {},
   "outputs": [],
   "source": [
    "import numpy as np\n",
    "import random"
   ]
  },
  {
   "cell_type": "markdown",
   "metadata": {},
   "source": [
    "TODO:\n",
    "\n",
    "- linear algebra\n",
    "    - Skalarprodukt\n",
    "        - Geometrische Interpretation ausarbeiten\n",
    "\n",
    "- funktionen darstellen und manipulieren\n",
    "\n",
    "- integrieren\n",
    "\n",
    "- differenzieren\n",
    "\n",
    "- approximating with taylor series\n",
    "\n",
    "- kmeans clustering\n",
    "\n",
    "- fitting a linear function on data points"
   ]
  },
  {
   "cell_type": "markdown",
   "metadata": {},
   "source": [
    "## Skalarprodukt\n",
    "Formel für n-dimensionalen Raum:\n",
    "$$\n",
    "\n",
    "\\vec{a} \\cdot \\vec{b} = \\sum_{i=1}^n a_i b_i, \\quad \\text{wobei } \\vec{a} = (a_1, a_2, \\dots, a_n) \\text{ und } \\vec{b} = (b_1, b_2, \\dots, b_n).\n",
    "\n",
    "\\\\\n",
    "\n",
    "a_i \\text{ und } b_i \\text{ sind hierbei Komponenten der Vektoren }\n",
    "\n",
    "$$\n",
    "\n",
    "Geometrische Interpretation:\n",
    "$$\n",
    "\\mathbf{a} \\cdot \\mathbf{b} = \\|\\mathbf{a}\\| \\|\\mathbf{b}\\| \\cos\\theta\n",
    "$$"
   ]
  },
  {
   "cell_type": "code",
   "execution_count": 12,
   "metadata": {},
   "outputs": [
    {
     "data": {
      "text/plain": [
       "np.float64(249960.92029714942)"
      ]
     },
     "execution_count": 12,
     "metadata": {},
     "output_type": "execute_result"
    }
   ],
   "source": [
    "# um das Skalarprodukt zweier Vektoren in python zu berechnen\n",
    "\n",
    "n = 1000000\n",
    "a = [random.random() for _ in range(n)] # we are initialising like this to show that data can be converted to an np.array\n",
    "b = [random.random() for _ in range(n)] # we could of course just do 'a = np.random.random(n)' \n",
    "a = np.array(a) # unsere davor definierten arrays müssen wir zu einem numpy array umwandeln.\n",
    "b = np.array(b) \n",
    "\n",
    "skalar = a @ b # or 'np.dot(a,b)'\n",
    "\n",
    "skalar"
   ]
  }
 ],
 "metadata": {
  "kernelspec": {
   "display_name": "Python 3",
   "language": "python",
   "name": "python3"
  },
  "language_info": {
   "codemirror_mode": {
    "name": "ipython",
    "version": 3
   },
   "file_extension": ".py",
   "mimetype": "text/x-python",
   "name": "python",
   "nbconvert_exporter": "python",
   "pygments_lexer": "ipython3",
   "version": "3.12.7"
  }
 },
 "nbformat": 4,
 "nbformat_minor": 2
}
