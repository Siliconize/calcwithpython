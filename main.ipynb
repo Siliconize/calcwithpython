{
 "cells": [
  {
   "cell_type": "markdown",
   "metadata": {},
   "source": [
    "Doing math with python"
   ]
  },
  {
   "cell_type": "markdown",
   "metadata": {},
   "source": [
    "todo:\n",
    "\n",
    "linear algebra\n",
    "\n",
    "funktionen darstellen und manipulieren\n",
    "\n",
    "integrieren\n",
    "\n",
    "differenzieren\n",
    "\n",
    "approximating with taylor series\n",
    "\n",
    "kmeans clustering\n",
    "\n",
    "fitting a linear function on data points"
   ]
  },
  {
   "cell_type": "code",
   "execution_count": null,
   "metadata": {},
   "outputs": [],
   "source": []
  }
 ],
 "metadata": {
  "language_info": {
   "name": "python"
  }
 },
 "nbformat": 4,
 "nbformat_minor": 2
}
