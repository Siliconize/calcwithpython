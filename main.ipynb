{
 "cells": [
  {
   "cell_type": "markdown",
   "metadata": {},
   "source": [
    "# Mathematica auto-messis\n",
    "warning! denglish ahead"
   ]
  },
  {
   "cell_type": "code",
   "execution_count": 2,
   "metadata": {},
   "outputs": [],
   "source": [
    "import numpy as np\n",
    "import random"
   ]
  },
  {
   "cell_type": "markdown",
   "metadata": {},
   "source": [
    "TODO:\n",
    "\n",
    "- linear algebra\n",
    "    - Skalarprodukt\n",
    "        - Geometrische Interpretation ausarbeiten\n",
    "\n",
    "- funktionen darstellen und manipulieren\n",
    "\n",
    "- integrieren\n",
    "\n",
    "- differenzieren\n",
    "\n",
    "- approximating with taylor series\n",
    "\n",
    "- kmeans clustering\n",
    "\n",
    "- fitting a linear function on data points"
   ]
  },
  {
   "cell_type": "markdown",
   "metadata": {},
   "source": [
    "## Skalarprodukt\n",
    "Formel für n-dimensionalen Raum:\n",
    "$$\n",
    "\n",
    "\\vec{a} \\cdot \\vec{b} = \\sum_{i=1}^n a_i b_i, \\quad \\text{wobei } \\vec{a} = (a_1, a_2, \\dots, a_n) \\text{ und } \\vec{b} = (b_1, b_2, \\dots, b_n).\n",
    "\n",
    "$$\n",
    "\n",
    "$$\n",
    "\n",
    "a_i \\text{ und } b_i \\text{ sind hierbei Komponenten der Vektoren }\n",
    "\n",
    "$$\n",
    "\n",
    "Geometrische Interpretation:\n",
    "$$\n",
    "\\mathbf{a} \\cdot \\mathbf{b} = \\|\\mathbf{a}\\| \\|\\mathbf{b}\\| \\cos\\theta\n",
    "$$"
   ]
  },
  {
   "cell_type": "code",
   "execution_count": 3,
   "metadata": {},
   "outputs": [
    {
     "data": {
      "text/plain": [
       "np.float64(250201.97633959382)"
      ]
     },
     "execution_count": 3,
     "metadata": {},
     "output_type": "execute_result"
    }
   ],
   "source": [
    "# um das Skalarprodukt zweier Vektoren in python zu berechnen\n",
    "\n",
    "n = 1000000\n",
    "a = [random.random() for _ in range(n)] # we are initialising like this to show that data can be converted to an np.array\n",
    "b = [random.random() for _ in range(n)] # we could of course just do 'a = np.random.random(n)\" \n",
    "a = np.array(a) # unsere davor definierten arrays müssen wir zu einem numpy array umwandeln.\n",
    "b = np.array(b) \n",
    "\n",
    "skalar = a @ b # or \"np.dot(a,b)\"\n",
    "\n",
    "skalar"
   ]
  },
  {
   "cell_type": "markdown",
   "metadata": {},
   "source": [
    "creating numpy arrays"
   ]
  },
  {
   "cell_type": "code",
   "execution_count": 6,
   "metadata": {},
   "outputs": [
    {
     "name": "stdout",
     "output_type": "stream",
     "text": [
      "Inhalt:  [[   4.      3.14   99.  ]\n",
      " [ 420.     69.   1337.  ]]\n",
      "Typ:  <class 'numpy.ndarray'>\n",
      "Element Typ:  float64\n"
     ]
    }
   ],
   "source": [
    "# make it 2d\n",
    "a = np.array([[4, 3.14, 99],[420,69,1337]])\n",
    "\n",
    "print(\"Inhalt: \",a)\n",
    "print(\"Typ: \", type(a))\n",
    "print(\"Element Typ: \", a.dtype)"
   ]
  },
  {
   "cell_type": "code",
   "execution_count": 14,
   "metadata": {},
   "outputs": [
    {
     "name": "stdout",
     "output_type": "stream",
     "text": [
      "Data Type: bool\n",
      "a:  [ True  True  True]\n"
     ]
    }
   ],
   "source": [
    "# you can also set the datatype like so:\n",
    "a = np.array([420691337420691337, 1337, 420], dtype = 'bool')\n",
    "print(\"Data Type:\", a.dtype)\n",
    "print(\"a: \",a)\n",
    "# Some Datatypes you can set it to: numpy.bool, numpy.int, numpy.float, numpy.complex"
   ]
  },
  {
   "cell_type": "code",
   "execution_count": 25,
   "metadata": {},
   "outputs": [
    {
     "name": "stdout",
     "output_type": "stream",
     "text": [
      "[  0  69 138 207 276 345 414]\n",
      "\n",
      "\n",
      "[[0. 0. 0. 0.]\n",
      " [0. 0. 0. 0.]\n",
      " [0. 0. 0. 0.]\n",
      " [0. 0. 0. 0.]]\n",
      "\n",
      "\n",
      "[[1. 1. 1. 1.]\n",
      " [1. 1. 1. 1.]\n",
      " [1. 1. 1. 1.]\n",
      " [1. 1. 1. 1.]]\n",
      "\n",
      "\n",
      "[[1. 0. 0. 0.]\n",
      " [0. 1. 0. 0.]\n",
      " [0. 0. 1. 0.]\n",
      " [0. 0. 0. 1.]]\n",
      "\n",
      "\n",
      "[1.   1.06 1.12 1.18 1.24 1.3  1.36 1.42 1.48 1.54 1.6  1.66 1.72 1.78\n",
      " 1.84 1.9  1.96 2.02 2.08 2.14]\n"
     ]
    }
   ],
   "source": [
    "# arange(start,stop,steps)\n",
    "a = np.arange(0,420,69)\n",
    "print(a)\n",
    "print(\"\\n\")\n",
    "\n",
    "# makes one filled with zero\n",
    "# zeros(shape)\n",
    "a = np.zeros((4,4))\n",
    "print(a)\n",
    "\n",
    "print(\"\\n\")\n",
    "\n",
    "# makes one filled with ones\n",
    "# ones(shape)\n",
    "a = np.ones((4,4))\n",
    "print(a)\n",
    "\n",
    "print(\"\\n\")\n",
    "\n",
    "# identity matrix: \n",
    "# eye(shape)\n",
    "a = np.eye(4)\n",
    "print(a)\n",
    "\n",
    "print(\"\\n\")\n",
    "\n",
    "\n",
    "# gleichverteilte Werte zwischen min und max\n",
    "# linspace(min,max,number of elements)\n",
    "a = np.linspace(1, 2.14, 20)\n",
    "print(a)\n",
    "\n"
   ]
  }
 ],
 "metadata": {
  "kernelspec": {
   "display_name": "Python 3",
   "language": "python",
   "name": "python3"
  },
  "language_info": {
   "codemirror_mode": {
    "name": "ipython",
    "version": 3
   },
   "file_extension": ".py",
   "mimetype": "text/x-python",
   "name": "python",
   "nbconvert_exporter": "python",
   "pygments_lexer": "ipython3",
   "version": "3.12.7"
  }
 },
 "nbformat": 4,
 "nbformat_minor": 2
}
